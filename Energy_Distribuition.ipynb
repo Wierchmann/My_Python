{
 "cells": [
  {
   "cell_type": "code",
   "execution_count": 6,
   "id": "1a9f7b28",
   "metadata": {},
   "outputs": [],
   "source": [
    "import numpy as np\n",
    "import pandas as pd\n",
    "import re\n",
    "\n",
    "import pdfplumber\n",
    "import pandas as pd\n",
    "from collections import namedtuple\n",
    "import itertools \n",
    "from pathlib import Path\n",
    "\n",
    "import os\n",
    "from datetime import date"
   ]
  },
  {
   "cell_type": "code",
   "execution_count": 23,
   "id": "85005904",
   "metadata": {},
   "outputs": [],
   "source": [
    "directory = \"directory_path\""
   ]
  },
  {
   "cell_type": "code",
   "execution_count": null,
   "id": "0574a763",
   "metadata": {},
   "outputs": [],
   "source": [
    "file_name = input(\"Por favor, cole aqui o nome do arquivo PDF que deseja trabalhar :\")\n",
    "file = file_name + \".pdf\"\n",
    "path = os.path.join(directory, file)"
   ]
  },
  {
   "cell_type": "code",
   "execution_count": 16,
   "id": "2ef9fa76",
   "metadata": {},
   "outputs": [],
   "source": [
    "con_re = re.compile(r'((UC :) (\\d+))')"
   ]
  },
  {
   "cell_type": "code",
   "execution_count": 17,
   "id": "a5b3ee6a",
   "metadata": {},
   "outputs": [],
   "source": [
    "def list_lenght(list_name):\n",
    "    return len(list_name)"
   ]
  },
  {
   "cell_type": "code",
   "execution_count": null,
   "id": "a6dea937",
   "metadata": {},
   "outputs": [],
   "source": [
    "referencia = input(\"Adicione a referência no formato número do mês / ano (mm/aaaa):\")\n",
    "\n",
    "zeroes = [0,0,0,0,0,0,0,0]\n",
    "\n",
    "\n",
    "\n",
    "pos   = [3,5,7,9,11,13,15,17]\n",
    "\n",
    "pos_2 = [*range(1,9)]\n",
    "\n",
    "pos_3 = list(map((lambda x: x-1), pos))\n",
    "\n",
    "\n",
    "references = []\n",
    "\n",
    "ucs = []\n",
    "\n",
    "with pdfplumber.open(path) as pdf:\n",
    "    pages = pdf.pages\n",
    "    for page in pages:\n",
    "        text = page.extract_text()\n",
    "        for row in text.split('\\n'):\n",
    "            if con_re.findall(row):\n",
    "                uc = con_re.search(row).group(3)\n",
    "                ucs.append(uc)\n",
    "                \n",
    "                \n",
    "            elif row.startswith(referencia):\n",
    "                ref_1 = (row.split())\n",
    "                ref_3 = row.split()\n",
    "                if list_lenght(ref_1) == 17:\n",
    "                    \n",
    "                    assert(len(zeroes) == len(pos))\n",
    "                    acc = 0\n",
    "                    for i in range(len(zeroes)):\n",
    "                        ref_1.insert(pos[i]+acc, zeroes[i])\n",
    "                        acc += 1\n",
    "                    \n",
    "                    \n",
    "                    references.append(ref_1)\n",
    "                    \n",
    "            \n",
    "                elif list_lenght(ref_3) == 9:\n",
    "                    assert(len(zeroes) == len(pos_2))\n",
    "                    acc = 0\n",
    "                    for i in range(len(zeroes)):\n",
    "                        ref_3.insert(pos_2[i]+acc, zeroes[i])\n",
    "                        acc += 1\n",
    "                    assert(len(zeroes) == len(pos_3))\n",
    "                    acc = 0    \n",
    "                    for i in range(len(zeroes)):\n",
    "                            ref_3.insert(pos_3[i]+acc, zeroes[i])\n",
    "                            acc += 1\n",
    "                    references.append(ref_3)                \n",
    "                            \n",
    "                       \n",
    "                        \n",
    "                    \n",
    "\n",
    "                else :\n",
    "                    ref_2 = row.split()\n",
    "                    \n",
    "                    references.append(ref_2)\n",
    "                break        \n",
    "              \n",
    "                     \n",
    "                    \n",
    "                    \n",
    "                    \n",
    "                    \n",
    "                    \n",
    "\n",
    "\n",
    "                \n"
   ]
  },
  {
   "cell_type": "code",
   "execution_count": null,
   "id": "e866fb12",
   "metadata": {},
   "outputs": [],
   "source": [
    "df= pd.DataFrame(ucs)\n",
    "df2 = pd.DataFrame(references)\n",
    "frames = [df, df2]\n",
    "table = pd.concat(frames, axis=1)\n",
    "#display(table)"
   ]
  },
  {
   "cell_type": "code",
   "execution_count": 20,
   "id": "76f24c16",
   "metadata": {},
   "outputs": [],
   "source": [
    "today = date.today()\n",
    "today_string = str(today)"
   ]
  },
  {
   "cell_type": "code",
   "execution_count": 188,
   "id": "8cf1f427",
   "metadata": {},
   "outputs": [],
   "source": [
    "table.to_csv(os.path.join(directory,file_name + ' - Parsed ' + today_string),index=False)"
   ]
  }
 ],
 "metadata": {
  "kernelspec": {
   "display_name": "Python 3 (ipykernel)",
   "language": "python",
   "name": "python3"
  },
  "language_info": {
   "codemirror_mode": {
    "name": "ipython",
    "version": 3
   },
   "file_extension": ".py",
   "mimetype": "text/x-python",
   "name": "python",
   "nbconvert_exporter": "python",
   "pygments_lexer": "ipython3",
   "version": "3.9.12"
  }
 },
 "nbformat": 4,
 "nbformat_minor": 5
}
