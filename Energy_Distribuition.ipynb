{
 "cells": [
  {
   "cell_type": "code",
   "execution_count": 1,
   "id": "1a9f7b28",
   "metadata": {},
   "outputs": [],
   "source": [
    "#The code below is used to parse PDF files.\n",
    "\n",
    "#Importing the libraries.\n",
    "\n",
    "import numpy as np\n",
    "import pandas as pd\n",
    "import re\n",
    "\n",
    "import pdfplumber\n",
    "import pandas as pd\n",
    "from collections import namedtuple\n",
    "import itertools \n",
    "from pathlib import Path\n",
    "\n",
    "import os\n",
    "from datetime import date"
   ]
  },
  {
   "cell_type": "code",
   "execution_count": 2,
   "id": "85005904",
   "metadata": {},
   "outputs": [],
   "source": [
    "directory = \"directory_path\"  #Defining the directory path where your file should be."
   ]
  },
  {
   "cell_type": "code",
   "execution_count": null,
   "id": "0574a763",
   "metadata": {},
   "outputs": [],
   "source": [
    "file_name = input(\"Por favor, cole aqui o nome do arquivo PDF que deseja trabalhar :\") #An input that allow the user paster the file name.\n",
    "file = file_name + \".pdf\" #Assigning the pdf extension to the file name\n",
    "path = os.path.join(directory, file) #Assigning the directory path to the file name (directory_path\\file.pdf)"
   ]
  },
  {
   "cell_type": "code",
   "execution_count": 5,
   "id": "2ef9fa76",
   "metadata": {},
   "outputs": [],
   "source": [
    "con_re = re.compile(r'((UC :) (\\d+))') #The pattern we want to search over the file with Regex module"
   ]
  },
  {
   "cell_type": "code",
   "execution_count": 6,
   "id": "a5b3ee6a",
   "metadata": {},
   "outputs": [],
   "source": [
    "def list_lenght(list_name): #Defining a function to measure the lenght of a list\n",
    "    return len(list_name)"
   ]
  },
  {
   "cell_type": "code",
   "execution_count": null,
   "id": "a6dea937",
   "metadata": {},
   "outputs": [],
   "source": [
    "referencia = input(\"Adicione a referência no formato número do mês / ano (mm/aaaa):\") #Another input that allows the code below to search the date pattern with Regex\n",
    "\n",
    "zeroes = [0,0,0,0,0,0,0,0] #Zeroes we want to insert into the new indexes we'll insert to the minor lenght lists (pattern 2)\n",
    "\n",
    "pos   = [3,5,7,9,11,13,15,17] #These are the indexes we'll create new indexes to the left of them.\n",
    "\n",
    "references = [] #We create an empty list here to store the informations about the energy distribuition.\n",
    "\n",
    "ucs = [] #Another empty list, but in this one we'll store the Consumer Numbers.\n",
    "\n",
    "# Opening the pdf file and searching the consumer number in the pdf pages.\n",
    "with pdfplumber.open(path) as pdf:\n",
    "    pages = pdf.pages\n",
    "    for page in pages:\n",
    "        text = page.extract_text()\n",
    "        for row in text.split('\\n'):\n",
    "            if con_re.findall(row):\n",
    "                uc = con_re.search(row).group(3)\n",
    "                ucs.append(uc)\n",
    "                \n",
    "  #searching the date pattern and measuring the lists lenghts               \n",
    "            elif row.startswith(referencia):\n",
    "                ref_1 = (row.split())\n",
    "                if list_lenght(ref_1) != 25:\n",
    "                    \n",
    "                    assert(len(zeroes) == len(pos))\n",
    "                    acc = 0\n",
    "                    for i in range(len(zeroes)):\n",
    "                        ref_1.insert(pos[i]+acc, zeroes[i])\n",
    "                        acc += 1\n",
    "                    \n",
    "                    \n",
    "                    references.append(ref_1)    \n",
    "                else :\n",
    "                    ref_2 = row.split()\n",
    "                    \n",
    "                    references.append(ref_2)\n",
    "                break        \n",
    "              \n",
    "                     \n",
    "                    \n",
    "                    \n",
    "                    \n",
    "                    \n",
    "                    \n",
    "\n",
    "\n",
    "                \n"
   ]
  },
  {
   "cell_type": "code",
   "execution_count": null,
   "id": "e866fb12",
   "metadata": {},
   "outputs": [],
   "source": [
    "#Converting the lists into Dataframes and concatenating them.\n",
    "df= pd.DataFrame(ucs)\n",
    "df2 = pd.DataFrame(references)\n",
    "frames = [df, df2]\n",
    "table = pd.concat(frames, axis=1)\n",
    "#display(table)"
   ]
  },
  {
   "cell_type": "code",
   "execution_count": 55,
   "id": "76f24c16",
   "metadata": {},
   "outputs": [],
   "source": [
    "#Seting the live date of the day \n",
    "today = date.today()\n",
    "today_string = str(today)"
   ]
  },
  {
   "cell_type": "code",
   "execution_count": 57,
   "id": "69d582bf",
   "metadata": {},
   "outputs": [],
   "source": [
    "#Exporting the Dataframe as CSV file with the date stamp to a directory \n",
    "table.to_csv(os.path.join(directory,file_name + ' - Parsed ' + today_string),index=False)"
   ]
  }
 ],
 "metadata": {
  "kernelspec": {
   "display_name": "Python 3 (ipykernel)",
   "language": "python",
   "name": "python3"
  },
  "language_info": {
   "codemirror_mode": {
    "name": "ipython",
    "version": 3
   },
   "file_extension": ".py",
   "mimetype": "text/x-python",
   "name": "python",
   "nbconvert_exporter": "python",
   "pygments_lexer": "ipython3",
   "version": "3.9.12"
  }
 },
 "nbformat": 4,
 "nbformat_minor": 5
}
