{
 "cells": [
  {
   "cell_type": "code",
   "execution_count": 8,
   "id": "1a9f7b28",
   "metadata": {},
   "outputs": [],
   "source": [
    "import numpy as np\n",
    "import pandas as pd\n",
    "import re\n",
    "import tabula\n",
    "import pdfplumber\n",
    "import pandas as pd\n",
    "from collections import namedtuple\n",
    "import itertools \n",
    "from pathlib import Path\n",
    "import json\n",
    "import os"
   ]
  },
  {
   "cell_type": "code",
   "execution_count": 35,
   "id": "85005904",
   "metadata": {},
   "outputs": [],
   "source": [
    "directory = \"Demonstrativos\""
   ]
  },
  {
   "cell_type": "code",
   "execution_count": null,
   "id": "0574a763",
   "metadata": {},
   "outputs": [],
   "source": [
    "file_name = input(\"Por favor, cole aqui o nome do arquivo PDF que deseja trabalhar :\")\n",
    "file = file_name + \".pdf\""
   ]
  },
  {
   "cell_type": "code",
   "execution_count": null,
   "id": "d3c13b46",
   "metadata": {},
   "outputs": [],
   "source": [
    "#for items in os.listdir(directory):\n",
    "    #print(items)"
   ]
  },
  {
   "cell_type": "code",
   "execution_count": 46,
   "id": "6f718783",
   "metadata": {},
   "outputs": [],
   "source": [
    "path = os.path.join(directory, file)\n"
   ]
  },
  {
   "cell_type": "code",
   "execution_count": 47,
   "id": "8b547062",
   "metadata": {},
   "outputs": [],
   "source": [
    "UC_re = re.compile('((UC :) ([0-9]))')"
   ]
  },
  {
   "cell_type": "code",
   "execution_count": null,
   "id": "7a08c248",
   "metadata": {},
   "outputs": [],
   "source": [
    "with pdfplumber.open(path) as pdf:\n",
    "    w = [[row.split()[2] for row in page.extract_text().split('\\n') if UC_re.search(row)] for page in pdf.pages]\n",
    "    display(w)\n",
    "    \n",
    "    "
   ]
  },
  {
   "cell_type": "code",
   "execution_count": null,
   "id": "faa9f1bf",
   "metadata": {},
   "outputs": [],
   "source": [
    "uc_list_1 = w.copy()\n",
    "#display(uc_list_1)\n",
    "\n"
   ]
  },
  {
   "cell_type": "code",
   "execution_count": null,
   "id": "e7aed0a5",
   "metadata": {},
   "outputs": [],
   "source": [
    "def delete_multiple_element(list_object, indices):\n",
    "    indices = sorted(indices, reverse=True)\n",
    "    for idx in indices:\n",
    "        if idx < len(list_object):\n",
    "            list_object.pop(idx)\n",
    "    "
   ]
  },
  {
   "cell_type": "code",
   "execution_count": null,
   "id": "5317c455",
   "metadata": {},
   "outputs": [],
   "source": [
    "indices_del_UC  = [0]"
   ]
  },
  {
   "cell_type": "code",
   "execution_count": null,
   "id": "6611fb7d",
   "metadata": {},
   "outputs": [],
   "source": [
    "delete_multiple_element(uc_list_1, indices_del_UC)"
   ]
  },
  {
   "cell_type": "code",
   "execution_count": null,
   "id": "b7c78bfe",
   "metadata": {},
   "outputs": [],
   "source": [
    "uc_df = pd.DataFrame(uc_list_1)"
   ]
  },
  {
   "cell_type": "code",
   "execution_count": null,
   "id": "fdfff900",
   "metadata": {},
   "outputs": [],
   "source": [
    "#Ploting and Arranging DataFrames\n",
    "\n"
   ]
  },
  {
   "cell_type": "code",
   "execution_count": null,
   "id": "305d97fa",
   "metadata": {},
   "outputs": [],
   "source": [
    "referencia = input(\"Adicione a referência no formato número do mês / ano (mm/aaaa):\")\n",
    "with pdfplumber.open(path) as pdf:\n",
    "    a = [[line.split() for line in page.extract_text().split('\\n') if line.startswith(referencia)] for page in pdf.pages]\n"
   ]
  },
  {
   "cell_type": "code",
   "execution_count": null,
   "id": "27cc4363",
   "metadata": {},
   "outputs": [],
   "source": [
    "lista_de_creditos_1 = a.copy()\n",
    "merged_cred_list_1 = list(itertools.chain(*lista_de_creditos_1))\n",
    "#display(merged_cred_list_1)\n"
   ]
  },
  {
   "cell_type": "code",
   "execution_count": 101,
   "id": "153465fe",
   "metadata": {},
   "outputs": [],
   "source": [
    "def delete_multiple_element_Ener(list_object, indices):\n",
    "    indices = sorted(indices, reverse=True)\n",
    "    for idx in indices:\n",
    "        if idx < len(list_object):\n",
    "            list_object.pop(idx)"
   ]
  },
  {
   "cell_type": "code",
   "execution_count": 102,
   "id": "25e84182",
   "metadata": {},
   "outputs": [],
   "source": [
    "indices_del_UC = [0]\n",
    "delete_multiple_element_Ener(merged_cred_list_1, indices_del_UC)"
   ]
  },
  {
   "cell_type": "code",
   "execution_count": 103,
   "id": "7e50f5c2",
   "metadata": {},
   "outputs": [],
   "source": [
    "merged_cred_list_1_df = pd.DataFrame(merged_cred_list_1)\n"
   ]
  },
  {
   "cell_type": "code",
   "execution_count": null,
   "id": "47b51251",
   "metadata": {},
   "outputs": [],
   "source": [
    "display(merged_cred_list_1_df)"
   ]
  },
  {
   "cell_type": "code",
   "execution_count": 118,
   "id": "48278db7",
   "metadata": {},
   "outputs": [],
   "source": [
    "frames = [uc_df, merged_cred_list_1_df]"
   ]
  },
  {
   "cell_type": "code",
   "execution_count": 119,
   "id": "8ff8e5f7",
   "metadata": {},
   "outputs": [],
   "source": [
    "tuple = pd.concat(frames, axis=1)"
   ]
  },
  {
   "cell_type": "code",
   "execution_count": null,
   "id": "19f05ad9",
   "metadata": {
    "scrolled": true
   },
   "outputs": [],
   "source": [
    "display(tuple)"
   ]
  },
  {
   "cell_type": "code",
   "execution_count": null,
   "id": "bfe465ce",
   "metadata": {},
   "outputs": [],
   "source": [
    "tuple.to_csv('filename_pattern1', index=False)"
   ]
  },
  {
   "cell_type": "code",
   "execution_count": null,
   "id": "ea87d920",
   "metadata": {},
   "outputs": [],
   "source": [
    "#Pattern 2\n",
    "\n"
   ]
  },
  {
   "cell_type": "code",
   "execution_count": null,
   "id": "1592c7f1",
   "metadata": {},
   "outputs": [],
   "source": [
    "uc_list_2 = w.copy()\n",
    "del uc_list_2[1:]\n",
    "\n"
   ]
  },
  {
   "cell_type": "code",
   "execution_count": null,
   "id": "8f66697b",
   "metadata": {},
   "outputs": [],
   "source": [
    "uc_list_2_df = pd.DataFrame(uc_list_2)"
   ]
  },
  {
   "cell_type": "code",
   "execution_count": null,
   "id": "55d0d1da",
   "metadata": {},
   "outputs": [],
   "source": [
    "lista_de_creditos_2 = a.copy()\n",
    "merged_cred_list_2 = list(itertools.chain(*lista_de_creditos_2))\n",
    "del merged_cred_list_2[1:]\n"
   ]
  },
  {
   "cell_type": "code",
   "execution_count": null,
   "id": "eab05baf",
   "metadata": {},
   "outputs": [],
   "source": [
    "merged_cred_list_2_df = pd.DataFrame(merged_cred_list_2)"
   ]
  },
  {
   "cell_type": "code",
   "execution_count": null,
   "id": "82f71049",
   "metadata": {},
   "outputs": [],
   "source": [
    "display(merged_cred_list_2_df)"
   ]
  },
  {
   "cell_type": "code",
   "execution_count": null,
   "id": "f9b9c74f",
   "metadata": {},
   "outputs": [],
   "source": [
    "data = [uc_list_2_df, merged_cred_list_2_df]"
   ]
  },
  {
   "cell_type": "code",
   "execution_count": null,
   "id": "fed4d141",
   "metadata": {},
   "outputs": [],
   "source": [
    "tuple2 = pd.concat(data, axis=1)"
   ]
  },
  {
   "cell_type": "code",
   "execution_count": null,
   "id": "530d335e",
   "metadata": {},
   "outputs": [],
   "source": [
    "tuple2"
   ]
  },
  {
   "cell_type": "code",
   "execution_count": null,
   "id": "f18da33b",
   "metadata": {},
   "outputs": [],
   "source": [
    "tuple2.insert(4,\"TP\", \"0\")"
   ]
  },
  {
   "cell_type": "code",
   "execution_count": null,
   "id": "cf99a379",
   "metadata": {},
   "outputs": [],
   "source": [
    "display(tuple2)"
   ]
  },
  {
   "cell_type": "code",
   "execution_count": 43,
   "id": "4f920d3b",
   "metadata": {},
   "outputs": [],
   "source": [
    "tuple3.to_csv('filename_pattern2', index=False)"
   ]
  }
 ],
 "metadata": {
  "kernelspec": {
   "display_name": "Python 3 (ipykernel)",
   "language": "python",
   "name": "python3"
  },
  "language_info": {
   "codemirror_mode": {
    "name": "ipython",
    "version": 3
   },
   "file_extension": ".py",
   "mimetype": "text/x-python",
   "name": "python",
   "nbconvert_exporter": "python",
   "pygments_lexer": "ipython3",
   "version": "3.9.12"
  }
 },
 "nbformat": 4,
 "nbformat_minor": 5
}
