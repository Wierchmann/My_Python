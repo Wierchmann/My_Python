{
 "cells": [
  {
   "cell_type": "code",
   "execution_count": 1,
   "id": "1a9f7b28",
   "metadata": {},
   "outputs": [],
   "source": [
    "import numpy as np\n",
    "import pandas as pd\n",
    "import re\n",
    "import pdfplumber\n",
    "from collections import namedtuple"
   ]
  },
  {
   "cell_type": "code",
   "execution_count": 24,
   "id": "0574a763",
   "metadata": {},
   "outputs": [],
   "source": [
    "file_name = input(\"Por favor, cole aqui o nome do arquivo PDF que deseja trabalhar :\")\n",
    "file = file_name + \".pdf\""
   ]
  },
  {
   "cell_type": "code",
   "execution_count": 16,
   "id": "351743b7",
   "metadata": {},
   "outputs": [],
   "source": [
    "sub_te_re = re.compile(r'(SUBSIDIO TARIFARIO TE) (UN) (.*)')\n",
    "sub_re = re.compile(r'(SUBSIDIO) (.*)')\n",
    "sub_tusd_re = re.compile(r'(SUBSIDIO TARIFARIO TUSD) (UN) (.*)')\n",
    "sub_taf_liq = re.compile(r'(SUBSIDIO TARIFARIO LIQUIDO) (UN) (.*)')\n",
    "ener_con_re = re.compile(r'(ENERGIA ELET CONSUMO) (kWh) (.*) (CPIOSFINS) (.*) (.*) (.*)')\n",
    "ener_re = re.compile (r'(ENERGIA ELET) (.*)')\n",
    "ener_uso_re = re.compile (r'(ENERGIA ELET USO SISTEMA) (kWh) (.*)')\n",
    "ener_con_re = re.compile (r'(ENERGIA ELET CONSUMO) (kWh) (.*)')\n",
    "ener_te_res_re = re.compile (r'(ENERGIA ELET TE PER RESERV) (kWh) (.*)')\n",
    "ener_usd_res_re = re.compile (r'(ENERGIA ELET USD PER RESERV) (kWh) (.*)')\n",
    "ener_inj_te_re = re.compile (r'(ENERGIA INJETADA TE) (\\d{2}/\\d{4}) (kWh) (.*)')\n",
    "ener_inj_tusd_re = re.compile (r'(ENERGIA INJETADA TUSD) (\\d{2}/\\d{4}) (kWh) (.*)')\n",
    "ener_inj_rs_te_re = re.compile (r'(ENERGIA INJETADA RS TE) (\\d{2}/\\d{4}) (kWh) (.*)')\n",
    "ener_inj_rs_tusd_re = re.compile (r'(ENERGIA INJETADA RS TUSD) (\\d{2}/\\d{4}) (kWh) (.*)')\n",
    "un_re = re.compile(r'(Endereço:) (.*) (.*) (.*)')\n",
    "dsc_re = re.compile(r'(DESC PROG TRN LEI EST 19812.19) (UN) (.*)' )\n"
   ]
  },
  {
   "cell_type": "code",
   "execution_count": 17,
   "id": "52747ad0",
   "metadata": {},
   "outputs": [],
   "source": [
    "Line = namedtuple('Line', 'UC Itens_de_Fatura Valores')"
   ]
  },
  {
   "cell_type": "code",
   "execution_count": 26,
   "id": "a4556027",
   "metadata": {},
   "outputs": [],
   "source": [
    "lines = []\n",
    "with pdfplumber.open(file) as pdf:\n",
    "    pages = pdf.pages\n",
    "    for page in pages:\n",
    "        text = page.extract_text()\n",
    "        for row in text.split('\\n'):\n",
    "            if un_re.findall(row):\n",
    "                uc = un_re.search(row).group(4)\n",
    "                #lines.append(Line(uc,itens_fat, nums))\n",
    "                #rows.append(Line(itens_fat, nums.split()))\n",
    "            elif ener_uso_re.search(row):\n",
    "                itens_fat, nums = ener_uso_re.search(row).group(1), ener_uso_re.search(row).group(3)\n",
    "                lines.append(Line(uc,itens_fat, nums))\n",
    "                #rows.append(Line(en_pt_tusd_name, en_pt_tusd_val.split()))\n",
    "            elif ener_con_re.search(row):\n",
    "                itens_fat, nums = ener_con_re.search(row).group(1), ener_con_re.search(row).group(3)\n",
    "                lines.append(Line(uc,itens_fat, nums))\n",
    "            elif ener_te_res_re.search(row):\n",
    "                itens_fat, nums = ener_te_res_re.search(row).group(1), ener_te_res_re.search(row).group(3)\n",
    "                lines.append(Line(uc,itens_fat, nums))\n",
    "            elif ener_usd_res_re.search(row):\n",
    "                itens_fat, nums = ener_usd_res_re.search(row).group(1), ener_usd_res_re.search(row).group(3)\n",
    "                lines.append(Line(uc,itens_fat, nums))\n",
    "            elif ener_inj_te_re.search(row):\n",
    "                itens_fat, nums = ener_inj_te_re.search(row).group(1), ener_inj_te_re.search(row).group(4)\n",
    "                lines.append(Line(uc,itens_fat, nums))\n",
    "            elif ener_inj_tusd_re.search(row):\n",
    "                itens_fat, nums = ener_inj_tusd_re.search(row).group(1), ener_inj_tusd_re.search(row).group(4)\n",
    "                lines.append(Line(uc,itens_fat, nums))\n",
    "            elif ener_inj_rs_te_re.search(row):\n",
    "                itens_fat, nums = ener_inj_rs_te_re.search(row).group(1), ener_inj_rs_te_re.search(row).group(4)\n",
    "                lines.append(Line(uc,itens_fat, nums))\n",
    "            elif ener_inj_rs_tusd_re.search(row):\n",
    "                itens_fat, nums = ener_inj_rs_tusd_re.search(row).group(1), ener_inj_rs_tusd_re.search(row).group(4)\n",
    "                lines.append(Line(uc,itens_fat, nums))\n",
    "            elif sub_te_re.search(row):\n",
    "                itens_fat, nums = sub_te_re.search(row).group(1), sub_te_re.search(row).group(3)\n",
    "                lines.append(Line(uc,itens_fat, nums))\n",
    "            elif sub_tusd_re.search(row):\n",
    "                itens_fat, nums = sub_tusd_re.search(row).group(1), sub_tusd_re.search(row).group(3)\n",
    "                lines.append(Line(uc,itens_fat, nums))\n",
    "            elif sub_taf_liq.search(row):\n",
    "                itens_fat, nums = sub_taf_liq.search(row).group(1), sub_taf_liq.search(row).group(3)\n",
    "                lines.append(Line(uc,itens_fat, nums))\n",
    "            elif dsc_re.search(row):\n",
    "                itens_fat, nums = dsc_re.search(row).group(1), dsc_re.search(row).group(3)\n",
    "                lines.append(Line(uc,itens_fat, nums))\n",
    "                \n"
   ]
  },
  {
   "cell_type": "code",
   "execution_count": null,
   "id": "744c1dd6",
   "metadata": {},
   "outputs": [],
   "source": [
    "dfl = pd.DataFrame(lines)\n",
    "#display(dfl)"
   ]
  },
  {
   "cell_type": "code",
   "execution_count": 29,
   "id": "33ea5910",
   "metadata": {},
   "outputs": [],
   "source": [
    "dfl.to_csv('filenameout', index=False)"
   ]
  }
 ],
 "metadata": {
  "kernelspec": {
   "display_name": "Python 3 (ipykernel)",
   "language": "python",
   "name": "python3"
  },
  "language_info": {
   "codemirror_mode": {
    "name": "ipython",
    "version": 3
   },
   "file_extension": ".py",
   "mimetype": "text/x-python",
   "name": "python",
   "nbconvert_exporter": "python",
   "pygments_lexer": "ipython3",
   "version": "3.9.12"
  }
 },
 "nbformat": 4,
 "nbformat_minor": 5
}
