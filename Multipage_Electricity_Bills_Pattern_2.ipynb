{
 "cells": [
  {
   "cell_type": "code",
   "execution_count": 1,
   "id": "afa4ea86",
   "metadata": {},
   "outputs": [],
   "source": [
    "import numpy as np\n",
    "import pandas as pd\n",
    "import re\n",
    "import tabula\n",
    "import pdfplumber\n",
    "import pandas as pd\n",
    "from collections import namedtuple\n",
    "from PyPDF2 import PdfReader\n",
    "import glob\n",
    "import os\n",
    "from tqdm.auto import tqdm\n",
    "from tkinter import filedialog as fd\n",
    "import json\n",
    "from pathlib import Path\n"
   ]
  },
  {
   "cell_type": "code",
   "execution_count": 2,
   "id": "06bbb1d3",
   "metadata": {},
   "outputs": [],
   "source": [
    "from PyPDF2 import PdfFileMerger\n",
    "from datetime import date"
   ]
  },
  {
   "cell_type": "code",
   "execution_count": 3,
   "id": "903d3305",
   "metadata": {},
   "outputs": [],
   "source": [
    "today = date.today()\n",
    "today_string = str(today)"
   ]
  },
  {
   "cell_type": "code",
   "execution_count": 4,
   "id": "3cd59330",
   "metadata": {},
   "outputs": [],
   "source": [
    "merger = PdfFileMerger()"
   ]
  },
  {
   "cell_type": "code",
   "execution_count": 5,
   "id": "793bc3d6",
   "metadata": {},
   "outputs": [],
   "source": [
    "#Faz o merge das faturas em PDF de uma pasta em um só arquivo. \n",
    "\n",
    "file_name = \"file_name_in\"\n",
    "file_name_out = file_name + today_string + \".pdf\"\n",
    "directory = 'directory_path_out'\n",
    "path = os.path.join(directory, file_name_out)\n",
    "\n",
    "merger = PdfFileMerger()\n",
    "\n",
    "\n",
    "path_to_files = r'path_where_the_files_are_located/' #Note that you must insert the \"/\" \n",
    "\n",
    "\n",
    "for root, dirs, file_names in os.walk(path_to_files):\n",
    "    \n",
    "    for file_name in file_names:\n",
    "        \n",
    "        merger.append(path_to_files + file_name)\n",
    "merger.write(path)\n",
    "merger.close()       "
   ]
  },
  {
   "cell_type": "code",
   "execution_count": 5,
   "id": "d90eec26",
   "metadata": {},
   "outputs": [],
   "source": [
    "Line = namedtuple('Line', ' UC Itens_de_Fatura Numeros')"
   ]
  },
  {
   "cell_type": "code",
   "execution_count": 6,
   "id": "df956f83",
   "metadata": {},
   "outputs": [],
   "source": [
    "\n",
    "\n",
    "en_pt_mpt_tusd_re = re.compile(r'(ENERGIA INJ. PT OUC MPT TUSD) (\\d{2}/\\d{4})(kWh) (.*) (.*) (.*)') \n",
    "en_in_pt_mpt_te = re.compile(r'(ENERGIA INJ. PT OUC MPT TE) (\\d{2}/\\d{4}) (kWh) (.*) (.*) (.*)')\n",
    "# Grupo 4,6\n",
    "\n",
    "en_fp_mpt_tusd_re = re.compile(r'(ENERGIA INJ. FP OUC MPT TUSD) (\\d{2}/\\d{4})(kWh) (.*) (.*) (.*)') \n",
    "en_fp_mpt_te_re = re.compile(r'(ENERGIA INJ. FP OUC MPT TE) (\\d{2}/\\d{4}) (kWh) (.*) (.*) (.*)') \n",
    "#Grupo 4, 6\n",
    "\n",
    "en_pt_opt_tusd_re = re.compile(r'(ENERGIA INJ. PT OUC OPT TUSD) (\\d{2}/\\d{4})(kWh) (.*) (.*) (.*)') \n",
    "en_pt_opt_te_re = re.compile(r'(ENERGIA INJ. PT OUC OPT TE) (\\d{2}/\\d{4}) (kWh) (.*) (.*) (.*)')\n",
    "\n",
    "ener_inj_ouc_mpt_te_re = re.compile(r'(ENERGIA INJ. OUC MPT TE) (\\d{2}/\\d{4}) (kWh) (.*) (.*) (.*)') \n",
    "ENERGIA_INJ_OUC_MPT_TUSD_re = re.compile(r'(ENERGIA INJ. OUC MPT TUSD) (\\d{2}/\\d{4}) (kWh) (.*) (.*) (.*)') \n",
    "\n",
    "ENERGIA_INJ_OUC_OPT_TE = re.compile(r'(ENERGIA INJ. OUC OPT TE) (\\d{2}/\\d{4}) (kWh) (.*) (.*) (.*)') \n",
    "ENERGIA_INJ_OUC_OPT_TUSD = re.compile(r'(ENERGIA INJ. OUC OPT TUSD) (\\d{2}/\\d{4}) (kWh) (.*) (.*) (.*)') \n",
    "\n",
    "\n",
    "uc_re = re.compile(r'(UC : )(\\d+)') "
   ]
  },
  {
   "cell_type": "code",
   "execution_count": 7,
   "id": "add48441",
   "metadata": {},
   "outputs": [],
   "source": [
    "lines = []\n",
    "ucs = []\n",
    "with pdfplumber.open(path) as pdf:\n",
    "    pages = pdf.pages\n",
    "    for page in pages:\n",
    "        text = page.extract_text()\n",
    "        for row in text.split('\\n'):\n",
    "            \n",
    "            \n",
    "            if uc_re.findall(row):\n",
    "                uc = uc_re.search(row).group(2)\n",
    "                \n",
    "                ucs.append(uc)\n",
    "                \n",
    "                \n",
    "        for row in text.split('\\n'):   \n",
    "\n",
    "            if en_pt_mpt_tusd_re.findall(row):\n",
    "                itens_fat, nums = en_pt_mpt_tusd_re.search(row).group(1) + ' ' + en_pt_mpt_tusd_re.search(row).group(2) , en_pt_mpt_tusd_re.search(row).group(4)\n",
    "                lines.append(Line(uc, itens_fat, nums))\n",
    "            \n",
    "            elif en_in_pt_mpt_te.findall(row):\n",
    "                itens_fat, nums = en_in_pt_mpt_te.search(row).group(1) + ' ' + en_in_pt_mpt_te.search(row).group(2) , en_in_pt_mpt_te.search(row).group(4)\n",
    "                lines.append(Line(uc, itens_fat, nums))\n",
    "            \n",
    "            elif en_fp_mpt_tusd_re.findall(row):\n",
    "                itens_fat, nums = en_fp_mpt_tusd_re.search(row).group(1) + ' ' + en_fp_mpt_tusd_re.search(row).group(2), en_fp_mpt_tusd_re.search(row).group(4)\n",
    "                lines.append(Line(uc, itens_fat, nums))\n",
    "            \n",
    "            elif en_fp_mpt_te_re.findall(row):\n",
    "                itens_fat, nums = en_fp_mpt_te_re.search(row).group(1) + ' ' + en_fp_mpt_te_re.search(row).group(2), en_fp_mpt_te_re.search(row).group(4)\n",
    "                lines.append(Line(uc, itens_fat, nums))\n",
    "            \n",
    "            elif en_pt_opt_tusd_re.findall(row):\n",
    "                itens_fat, nums = en_pt_opt_tusd_re.search(row).group(1) + ' ' + en_pt_opt_tusd_re.search(row).group(2) , en_pt_opt_tusd_re.search(row).group(4)\n",
    "                lines.append(Line(uc, itens_fat, nums))\n",
    "                \n",
    "            elif en_pt_opt_te_re.findall(row):\n",
    "                itens_fat, nums = en_pt_opt_te_re.search(row).group(1) + ' ' + en_pt_opt_te_re.search(row).group(2), en_pt_opt_te_re.search(row).group(4)\n",
    "                lines.append(Line(uc, itens_fat, nums))\n",
    "                \n",
    "            elif ener_inj_ouc_mpt_te_re.findall(row):\n",
    "                itens_fat, nums = ener_inj_ouc_mpt_te_re.search(row).group(1) + ' ' + ener_inj_ouc_mpt_te_re.search(row).group(2), ener_inj_ouc_mpt_te_re.search(row).group(4)\n",
    "                lines.append(Line(uc, itens_fat, nums))\n",
    "                \n",
    "            elif ENERGIA_INJ_OUC_MPT_TUSD_re.findall(row):\n",
    "                itens_fat, nums = ENERGIA_INJ_OUC_MPT_TUSD_re.search(row).group(1) + ' ' + ENERGIA_INJ_OUC_MPT_TUSD_re.search(row).group(2), ENERGIA_INJ_OUC_MPT_TUSD_re.search(row).group(4)\n",
    "                lines.append(Line(uc, itens_fat, nums))    \n",
    "                \n",
    "            elif ENERGIA_INJ_OUC_OPT_TE.findall(row):\n",
    "                itens_fat, nums = ENERGIA_INJ_OUC_OPT_TE.search(row).group(1) + ' ' + ENERGIA_INJ_OUC_OPT_TE.search(row).group(2), ENERGIA_INJ_OUC_OPT_TE.search(row).group(4)\n",
    "                lines.append(Line(uc, itens_fat, nums))\n",
    "                \n",
    "            elif ENERGIA_INJ_OUC_OPT_TUSD.findall(row):\n",
    "                itens_fat, nums = ENERGIA_INJ_OUC_OPT_TUSD.search(row).group(1) + ' ' + ENERGIA_INJ_OUC_OPT_TUSD.search(row).group(2), ENERGIA_INJ_OUC_OPT_TUSD.search(row).group(4)\n",
    "                lines.append(Line(uc, itens_fat, nums))\n",
    "\n",
    "# display(lines)                "
   ]
  },
  {
   "cell_type": "code",
   "execution_count": null,
   "id": "0104ef12",
   "metadata": {},
   "outputs": [],
   "source": [
    "check_list = []\n",
    "occur = []\n",
    "#Checa se pegou todas as UC's\n",
    "for i in ucs:\n",
    "    check = (i in dfl['UC'].unique())\n",
    "    \n",
    "    check_list.append(check)\n",
    "\n",
    "if len(ucs) == 57:\n",
    "    display(f'Achou todas as {len(ucs)} UCs ')\n",
    "else:\n",
    "    display(f'Encontrou apenas {len(ucs)} UCs')\n",
    "\n",
    "#Mostra quais as UC's das páginas do PDF que estão do DataFrame- por booleanos.   \n",
    "temp = len(ucs) * '% s = %% s, '\n",
    "res = temp % tuple(ucs) % tuple(check_list)\n",
    "print(res)\n",
    "\n",
    "#Checa se pegou todos os itens de fatura e suas respectivas ocorrências.\n",
    "\n",
    "occurrence = dfl['Itens_de_Fatura'].value_counts().rename_axis('Items de Fatura ').reset_index(name='Ocorrência')\n",
    "\n",
    "df_ocr = pd.DataFrame(occurrence)\n",
    "display(df_ocr)\n"
   ]
  },
  {
   "cell_type": "code",
   "execution_count": null,
   "id": "84b1c968",
   "metadata": {},
   "outputs": [],
   "source": [
    "#Função para buscar informações de UC's específicas no DataFrame.\n",
    "def procurando_uc(dataframe, *num_uc):\n",
    "    \n",
    "    value_list = [num_uc]\n",
    "    \n",
    "    for i in value_list:\n",
    "        mask = dataframe['UC'].isin(i)\n",
    "        dataframe[mask]\n",
    "    \n",
    "    return dataframe[mask]    "
   ]
  },
  {
   "cell_type": "code",
   "execution_count": 143,
   "id": "1221a9d4",
   "metadata": {},
   "outputs": [],
   "source": [
    "dfl.to_csv(os.path.join('Fat_CEEE\\CEEE 12-2022/','CEEE_all_pages2023-01-19' + ' - Parsed - ' + today_string),index=False)"
   ]
  },
  {
   "cell_type": "code",
   "execution_count": null,
   "id": "fd541d54",
   "metadata": {},
   "outputs": [],
   "source": []
  }
 ],
 "metadata": {
  "kernelspec": {
   "display_name": "Python 3 (ipykernel)",
   "language": "python",
   "name": "python3"
  },
  "language_info": {
   "codemirror_mode": {
    "name": "ipython",
    "version": 3
   },
   "file_extension": ".py",
   "mimetype": "text/x-python",
   "name": "python",
   "nbconvert_exporter": "python",
   "pygments_lexer": "ipython3",
   "version": "3.9.12"
  }
 },
 "nbformat": 4,
 "nbformat_minor": 5
}
