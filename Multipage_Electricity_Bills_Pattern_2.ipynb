{
 "cells": [
  {
   "cell_type": "code",
   "execution_count": 1,
   "id": "afa4ea86",
   "metadata": {},
   "outputs": [],
   "source": [
    "import numpy as np\n",
    "import pandas as pd\n",
    "import re\n",
    "import tabula\n",
    "import pdfplumber\n",
    "import pandas as pd\n",
    "from collections import namedtuple\n",
    "from PyPDF2 import PdfReader\n",
    "import glob\n",
    "import os\n",
    "from tqdm.auto import tqdm\n",
    "from tkinter import filedialog as fd\n",
    "import json\n",
    "from pathlib import Path\n"
   ]
  },
  {
   "cell_type": "code",
   "execution_count": 2,
   "id": "06bbb1d3",
   "metadata": {},
   "outputs": [],
   "source": [
    "from PyPDF2 import PdfFileMerger\n",
    "from datetime import date"
   ]
  },
  {
   "cell_type": "code",
   "execution_count": 3,
   "id": "903d3305",
   "metadata": {},
   "outputs": [],
   "source": [
    "today = date.today()\n",
    "today_string = str(today)"
   ]
  },
  {
   "cell_type": "code",
   "execution_count": 4,
   "id": "3cd59330",
   "metadata": {},
   "outputs": [],
   "source": [
    "merger = PdfFileMerger()"
   ]
  },
  {
   "cell_type": "code",
   "execution_count": 5,
   "id": "793bc3d6",
   "metadata": {},
   "outputs": [],
   "source": [
    "file_name = \"file_name_in\"\n",
    "file_name_out = file_name + today_string + \".pdf\"\n",
    "directory = 'directory_path_out'\n",
    "path = os.path.join(directory, file_name_out)\n",
    "\n",
    "merger = PdfFileMerger()\n",
    "\n",
    "\n",
    "path_to_files = r'path_where_the_files_are_located/' #Note that you must insert the \"/\" \n",
    "\n",
    "\n",
    "for root, dirs, file_names in os.walk(path_to_files):\n",
    "    \n",
    "    for file_name in file_names:\n",
    "        \n",
    "        merger.append(path_to_files + file_name)\n",
    "merger.write(path)\n",
    "merger.close()    "
   ]
  },
  {
   "cell_type": "code",
   "execution_count": 7,
   "id": "d90eec26",
   "metadata": {},
   "outputs": [],
   "source": [
    "Line = namedtuple('Line', ' UC Itens_de_Fatura Numeros')"
   ]
  },
  {
   "cell_type": "code",
   "execution_count": 8,
   "id": "df956f83",
   "metadata": {},
   "outputs": [],
   "source": [
    "\n",
    "\n",
    "en_pt_mpt_tusd_re = re.compile(r'(ENERGIA INJ. PT OUC MPT TUSD) (\\d{2}/\\d{4})(kWh) (.*) (.*) (.*)') \n",
    "en_in_pt_mpt_te = re.compile(r'(ENERGIA INJ. PT OUC MPT TE) (\\d{2}/\\d{4}) (kWh) (.*) (.*) (.*)')\n",
    "\n",
    "\n",
    "en_fp_mpt_tusd_re = re.compile(r'(ENERGIA INJ. FP OUC MPT TUSD) (\\d{2}/\\d{4})(kWh) (.*) (.*) (.*)') \n",
    "en_fp_mpt_te_re = re.compile(r'(ENERGIA INJ. FP OUC MPT TE) (\\d{2}/\\d{4}) (kWh) (.*) (.*) (.*)') \n",
    "\n",
    "\n",
    "en_pt_opt_tusd_re = re.compile(r'(ENERGIA INJ. PT OUC OPT TUSD) (\\d{2}/\\d{4})(kWh) (.*) (.*) (.*)') \n",
    "en_pt_opt_te_re = re.compile(r'(ENERGIA INJ. PT OUC OPT TE) (\\d{2}/\\d{4}) (kWh) (.*) (.*) (.*)')\n",
    "\n",
    "ener_inj_ouc_mpt_te_re = re.compile(r'(ENERGIA INJ. OUC MPT TE) (\\d{2}/\\d{4}) (kWh) (.*) (.*) (.*)') \n",
    "ENERGIA_INJ_OUC_MPT_TUSD_re = re.compile(r'(ENERGIA INJ. OUC MPT TUSD) (\\d{2}/\\d{4}) (kWh) (.*) (.*) (.*)') \n",
    "\n",
    "ENERGIA_INJ_OUC_OPT_TE = re.compile(r'(ENERGIA INJ. OUC OPT TE) (\\d{2}/\\d{4}) (kWh) (.*) (.*) (.*)') \n",
    "ENERGIA_INJ_OUC_OPT_TUSD = re.compile(r'(ENERGIA INJ. OUC OPT TUSD) (\\d{2}/\\d{4}) (kWh) (.*) (.*) (.*)') \n",
    "\n",
    "uc_re = re.compile(r'(UC )(:) (\\d+)') "
   ]
  },
  {
   "cell_type": "code",
   "execution_count": 10,
   "id": "1a6a9fcb",
   "metadata": {},
   "outputs": [],
   "source": [
    "lines = []\n",
    "with pdfplumber.open(path) as pdf:\n",
    "    pages = pdf.pages\n",
    "    for page in pages:\n",
    "        text = page.extract_text()\n",
    "        for row in text.split('\\n'):\n",
    "            \n",
    "            if uc_re.findall(row):\n",
    "                uc = uc_re.search(row).group(3)\n",
    "                \n",
    "            \n",
    "\n",
    "            elif en_pt_mpt_tusd_re.findall(row):\n",
    "                itens_fat, nums = en_pt_mpt_tusd_re.search(row).group(1), en_pt_mpt_tusd_re.search(row).group(4)\n",
    "                lines.append(Line(uc, itens_fat, nums))\n",
    "            \n",
    "            elif en_in_pt_mpt_te.findall(row):\n",
    "                itens_fat, nums = en_in_pt_mpt_te.search(row).group(1), en_in_pt_mpt_te.search(row).group(4)\n",
    "                lines.append(Line(uc, itens_fat, nums))\n",
    "            \n",
    "            elif en_fp_mpt_tusd_re.findall(row):\n",
    "                itens_fat, nums = en_fp_mpt_tusd_re.search(row).group(1), en_fp_mpt_tusd_re.search(row).group(4)\n",
    "                lines.append(Line(uc, itens_fat, nums))\n",
    "            \n",
    "            elif en_fp_mpt_te_re.findall(row):\n",
    "                itens_fat, nums = en_fp_mpt_te_re.search(row).group(1), en_fp_mpt_te_re.search(row).group(4)\n",
    "                lines.append(Line(uc, itens_fat, nums))\n",
    "            \n",
    "            elif en_pt_opt_tusd_re.findall(row):\n",
    "                itens_fat, nums = en_pt_opt_tusd_re.search(row).group(1), en_pt_opt_tusd_re.search(row).group(4)\n",
    "                lines.append(Line(uc, itens_fat, nums))\n",
    "                \n",
    "            elif en_pt_opt_te_re.findall(row):\n",
    "                itens_fat, nums = en_pt_opt_te_re.search(row).group(1), en_pt_opt_te_re.search(row).group(4)\n",
    "                lines.append(Line(uc, itens_fat, nums))\n",
    "                \n",
    "            elif ener_inj_ouc_mpt_te_re.findall(row):\n",
    "                itens_fat, nums = ener_inj_ouc_mpt_te_re.search(row).group(1), ener_inj_ouc_mpt_te_re.search(row).group(4)\n",
    "                lines.append(Line(uc, itens_fat, nums))\n",
    "                \n",
    "            elif ENERGIA_INJ_OUC_MPT_TUSD_re.findall(row):\n",
    "                itens_fat, nums = ENERGIA_INJ_OUC_MPT_TUSD_re.search(row).group(1), ENERGIA_INJ_OUC_MPT_TUSD_re.search(row).group(4)\n",
    "                lines.append(Line(uc, itens_fat, nums))    \n",
    "                \n",
    "            elif ENERGIA_INJ_OUC_OPT_TE.findall(row):\n",
    "                itens_fat, nums = ENERGIA_INJ_OUC_OPT_TE.search(row).group(1), ENERGIA_INJ_OUC_OPT_TE.search(row).group(4)\n",
    "                lines.append(Line(uc, itens_fat, nums))\n",
    "                \n",
    "            elif ENERGIA_INJ_OUC_OPT_TUSD.findall(row):\n",
    "                itens_fat, nums = ENERGIA_INJ_OUC_OPT_TUSD.search(row).group(1), ENERGIA_INJ_OUC_OPT_TUSD.search(row).group(4)\n",
    "                lines.append(Line(uc, itens_fat, nums))    \n",
    "            \n",
    "            \n",
    "                \n",
    "                \n",
    "                \n",
    "                \n",
    "                \n"
   ]
  },
  {
   "cell_type": "code",
   "execution_count": null,
   "id": "163df8e2",
   "metadata": {},
   "outputs": [],
   "source": [
    "dfl = pd.DataFrame(lines)\n"
   ]
  },
  {
   "cell_type": "code",
   "execution_count": 12,
   "id": "1221a9d4",
   "metadata": {},
   "outputs": [],
   "source": [
    "dfl.to_csv(os.path.join(directory,file_name + ' - Parsed - ' + today_string),index=False)"
   ]
  }
 ],
 "metadata": {
  "kernelspec": {
   "display_name": "Python 3 (ipykernel)",
   "language": "python",
   "name": "python3"
  },
  "language_info": {
   "codemirror_mode": {
    "name": "ipython",
    "version": 3
   },
   "file_extension": ".py",
   "mimetype": "text/x-python",
   "name": "python",
   "nbconvert_exporter": "python",
   "pygments_lexer": "ipython3",
   "version": "3.9.12"
  }
 },
 "nbformat": 4,
 "nbformat_minor": 5
}
